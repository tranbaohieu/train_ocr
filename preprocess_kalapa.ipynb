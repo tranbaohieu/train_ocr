{
 "cells": [
  {
   "cell_type": "code",
   "execution_count": 1,
   "metadata": {},
   "outputs": [],
   "source": [
    "import os\n",
    "import glob"
   ]
  },
  {
   "cell_type": "code",
   "execution_count": null,
   "metadata": {},
   "outputs": [],
   "source": [
    "data_path = \"/media/hwr/TK/OCR\"\n",
    "train_data_path = os.path.join(data_path, \"training_data\")\n",
    "annotations = glob.glob(os.path.join(train_data_path, \"annotations\", \"*.txt\"))\n",
    "image_dir = os.path.join(train_data_path, \"images\")"
   ]
  },
  {
   "cell_type": "code",
   "execution_count": 3,
   "metadata": {},
   "outputs": [],
   "source": [
    "f = open(os.path.join(train_data_path, \"labels.txt\"), \"w\")"
   ]
  },
  {
   "cell_type": "code",
   "execution_count": 8,
   "metadata": {},
   "outputs": [],
   "source": [
    "for anno_path in annotations:\n",
    "    lines = open(anno_path, \"r\").readlines()\n",
    "    for line in lines:\n",
    "        relative_path, label = line.strip().split(maxsplit=1)\n",
    "        image_path = os.path.join(image_dir, relative_path)\n",
    "        f.write(\"{}\\t{}\\n\".format(image_path, label))"
   ]
  },
  {
   "cell_type": "code",
   "execution_count": 11,
   "metadata": {},
   "outputs": [],
   "source": [
    "lines = open(os.path.join(train_data_path, \"labels.txt\"), \"r\").readlines()[:-1]"
   ]
  },
  {
   "cell_type": "code",
   "execution_count": 9,
   "metadata": {},
   "outputs": [],
   "source": [
    "f_train = open(os.path.join(train_data_path, \"train_labels.txt\"), \"w\")\n",
    "f_val = open(os.path.join(train_data_path, \"val_labels.txt\"), \"w\")"
   ]
  },
  {
   "cell_type": "code",
   "execution_count": 12,
   "metadata": {},
   "outputs": [],
   "source": [
    "import random\n",
    "random.shuffle(lines)"
   ]
  },
  {
   "cell_type": "code",
   "execution_count": null,
   "metadata": {},
   "outputs": [],
   "source": [
    "f_train.writelines(lines[:int(len(lines) * 0.8)])\n",
    "f_val.writelines(lines[:int(len(lines) * 0.2)])"
   ]
  },
  {
   "cell_type": "code",
   "execution_count": 2,
   "metadata": {},
   "outputs": [],
   "source": [
    "data_dir = \"/media/hwr/hdd500/TextRecognitionDataGenerator/gen_syn/syn_chinhtri\"\n",
    "label_path = os.path.join(data_dir, \"labels.txt\")"
   ]
  },
  {
   "cell_type": "code",
   "execution_count": 3,
   "metadata": {},
   "outputs": [],
   "source": [
    "lines = open(label_path, \"r\").readlines()"
   ]
  },
  {
   "cell_type": "code",
   "execution_count": 4,
   "metadata": {},
   "outputs": [
    {
     "data": {
      "text/plain": [
       "'0/0.png ( BDO ) Sáng 30-11 , Đoàn công tác của Thanh tra Chính phủ do ông Lê Minh Khái ,\\n'"
      ]
     },
     "execution_count": 4,
     "metadata": {},
     "output_type": "execute_result"
    }
   ],
   "source": [
    "\n",
    "    "
   ]
  }
 ],
 "metadata": {
  "kernelspec": {
   "display_name": "cl",
   "language": "python",
   "name": "python3"
  },
  "language_info": {
   "codemirror_mode": {
    "name": "ipython",
    "version": 3
   },
   "file_extension": ".py",
   "mimetype": "text/x-python",
   "name": "python",
   "nbconvert_exporter": "python",
   "pygments_lexer": "ipython3",
   "version": "3.9.7"
  },
  "orig_nbformat": 4
 },
 "nbformat": 4,
 "nbformat_minor": 2
}
